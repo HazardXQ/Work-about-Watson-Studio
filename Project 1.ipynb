{
 "cells": [
  {
   "cell_type": "markdown",
   "id": "cc069e19-e535-4af3-8d7c-f22db351094b",
   "metadata": {},
   "source": [
    "# My Jupyter Notebook on IBM Watson Studio"
   ]
  },
  {
   "cell_type": "markdown",
   "id": "24bc5b9f-f5d5-43b7-bb68-62d89860f218",
   "metadata": {},
   "source": [
    "## __Jose Luis Soto__\n",
    "Currently, I work in a fast food restaurant. Here, in Colombia country"
   ]
  },
  {
   "cell_type": "markdown",
   "id": "c95cb60e-0521-4c5b-bdd7-0ec0cf7afc48",
   "metadata": {},
   "source": [
    "_I'm interested in data science cause, I love math, statistics and programming and I wanna learn it. Actually, I am taking a free courses about math and statistics_"
   ]
  },
  {
   "cell_type": "markdown",
   "id": "d1dab95f-2d05-476a-b4e8-ebfac27d68f1",
   "metadata": {},
   "source": [
    "### Function to print"
   ]
  },
  {
   "cell_type": "code",
   "execution_count": 2,
   "id": "715aeb29-b910-4fd7-a0a5-6fcb32253b8a",
   "metadata": {},
   "outputs": [
    {
     "name": "stdout",
     "output_type": "stream",
     "text": [
      "Hello, world\n"
     ]
    }
   ],
   "source": [
    "def hello():\n",
    "    print(\"Hello, world\")\n",
    "\n",
    "hello()"
   ]
  },
  {
   "cell_type": "markdown",
   "id": "3352b736-cec3-4e45-bef1-ee0f071e226f",
   "metadata": {},
   "source": [
    "| Prove1 | Prove2  |\n",
    "| --- | --- |\n",
    "| Ask1 | Ask2 |\n",
    "| Ask3 | Ask4 |"
   ]
  },
  {
   "cell_type": "code",
   "execution_count": null,
   "id": "85ff57e9-417b-4c21-a0bf-c0a06291823f",
   "metadata": {},
   "outputs": [],
   "source": []
  }
 ],
 "metadata": {
  "kernelspec": {
   "display_name": "Python 3 (ipykernel)",
   "language": "python",
   "name": "python3"
  },
  "language_info": {
   "codemirror_mode": {
    "name": "ipython",
    "version": 3
   },
   "file_extension": ".py",
   "mimetype": "text/x-python",
   "name": "python",
   "nbconvert_exporter": "python",
   "pygments_lexer": "ipython3",
   "version": "3.10.0"
  }
 },
 "nbformat": 4,
 "nbformat_minor": 5
}
